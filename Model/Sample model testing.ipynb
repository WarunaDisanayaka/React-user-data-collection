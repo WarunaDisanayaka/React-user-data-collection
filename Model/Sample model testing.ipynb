{
 "cells": [
  {
   "cell_type": "code",
   "execution_count": 18,
   "id": "33fd9503",
   "metadata": {},
   "outputs": [],
   "source": [
    "import pandas as pd\n",
    "from sklearn.model_selection import train_test_split\n",
    "from sklearn.preprocessing import LabelEncoder\n",
    "from sklearn.ensemble import RandomForestClassifier\n",
    "from sklearn.metrics import classification_report\n"
   ]
  },
  {
   "cell_type": "code",
   "execution_count": 19,
   "id": "c4352c8a",
   "metadata": {},
   "outputs": [],
   "source": [
    "# Load your dataset\n",
    "data = pd.read_csv('user_data.csv')\n",
    "\n",
    "# Drop irrelevant columns and missing values\n",
    "data = data.drop(['Full Name', 'DOB', 'Email', 'Current City', 'Name of the Institute'], axis=1)\n",
    "data = data.dropna()\n",
    "\n",
    "# Encode categorical features\n",
    "label_encoder = LabelEncoder()\n",
    "data['Education Level'] = label_encoder.fit_transform(data['Education Level'])\n",
    "data['Gender'] = label_encoder.fit_transform(data['Gender'])\n",
    "data['Current Position of the Job'] = label_encoder.fit_transform(data['Current Position of the Job'])\n",
    "data['Polling Station'] = label_encoder.fit_transform(data['Polling Station'])\n"
   ]
  },
  {
   "cell_type": "code",
   "execution_count": 20,
   "id": "49708957",
   "metadata": {},
   "outputs": [],
   "source": [
    "data['Experience'] = data['Experience'].str.extract('(\\d+)').astype(float)"
   ]
  },
  {
   "cell_type": "code",
   "execution_count": 21,
   "id": "f7f857ea",
   "metadata": {},
   "outputs": [],
   "source": [
    "# Preprocess 'Current Salary' column\n",
    "data['Current Salary'] = data['Current Salary'].str.replace('[\\$,]', '', regex=True).astype(float)"
   ]
  },
  {
   "cell_type": "code",
   "execution_count": 22,
   "id": "8e6f0eac",
   "metadata": {},
   "outputs": [],
   "source": [
    "# Split the data into features (X) and target labels (y)\n",
    "X = data.drop('Position Type', axis=1)\n",
    "y = data['Position Type']\n",
    "\n",
    "# Split the data into training and testing sets\n",
    "X_train, X_test, y_train, y_test = train_test_split(X, y, test_size=0.2, random_state=42)\n"
   ]
  },
  {
   "cell_type": "code",
   "execution_count": 23,
   "id": "b14b74bd",
   "metadata": {},
   "outputs": [],
   "source": [
    "# Preprocess 'Experience' column\n"
   ]
  },
  {
   "cell_type": "code",
   "execution_count": 24,
   "id": "f5324bfe",
   "metadata": {},
   "outputs": [
    {
     "data": {
      "text/plain": [
       "RandomForestClassifier()"
      ]
     },
     "execution_count": 24,
     "metadata": {},
     "output_type": "execute_result"
    }
   ],
   "source": [
    "# Initialize the Random Forest classifier\n",
    "clf = RandomForestClassifier()\n",
    "\n",
    "# Train the model\n",
    "clf.fit(X_train, y_train)\n"
   ]
  },
  {
   "cell_type": "code",
   "execution_count": 25,
   "id": "b517fe52",
   "metadata": {},
   "outputs": [
    {
     "name": "stdout",
     "output_type": "stream",
     "text": [
      "                        precision    recall  f1-score   support\n",
      "\n",
      "                 Clerk       1.00      0.95      0.97        40\n",
      "Junior Polling Officer       1.00      1.00      1.00        24\n",
      "Senior Polling Officer       0.95      1.00      0.97        36\n",
      "\n",
      "              accuracy                           0.98       100\n",
      "             macro avg       0.98      0.98      0.98       100\n",
      "          weighted avg       0.98      0.98      0.98       100\n",
      "\n"
     ]
    }
   ],
   "source": [
    "# Make predictions\n",
    "y_pred = clf.predict(X_test)\n",
    "\n",
    "# Evaluate the model\n",
    "print(classification_report(y_test, y_pred))\n"
   ]
  },
  {
   "cell_type": "code",
   "execution_count": 46,
   "id": "2654b38b",
   "metadata": {},
   "outputs": [
    {
     "name": "stdout",
     "output_type": "stream",
     "text": [
      "Predicted Position: ['Senior Polling Officer']\n"
     ]
    }
   ],
   "source": [
    "# Prepare a new data instance for prediction (replace with your own values)\n",
    "new_data = pd.DataFrame({\n",
    "    'Age': [25],\n",
    "    'Education Level': [3],\n",
    "    'Gender': [1],\n",
    "    'Polling Station': [2],\n",
    "    'Current Position of the Job': [1],\n",
    "    'Experience': [10],\n",
    "    'Current Salary': [50000]\n",
    "})\n",
    "\n",
    "# Make a prediction\n",
    "prediction = clf.predict(new_data)\n",
    "print(\"Predicted Position:\", prediction)\n"
   ]
  },
  {
   "cell_type": "code",
   "execution_count": null,
   "id": "369aa463",
   "metadata": {},
   "outputs": [],
   "source": []
  }
 ],
 "metadata": {
  "kernelspec": {
   "display_name": "Python 3 (ipykernel)",
   "language": "python",
   "name": "python3"
  },
  "language_info": {
   "codemirror_mode": {
    "name": "ipython",
    "version": 3
   },
   "file_extension": ".py",
   "mimetype": "text/x-python",
   "name": "python",
   "nbconvert_exporter": "python",
   "pygments_lexer": "ipython3",
   "version": "3.9.13"
  }
 },
 "nbformat": 4,
 "nbformat_minor": 5
}
