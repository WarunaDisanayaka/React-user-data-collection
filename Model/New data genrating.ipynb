{
 "cells": [
  {
   "cell_type": "code",
   "execution_count": 8,
   "id": "d70f2896",
   "metadata": {},
   "outputs": [],
   "source": [
    "import random\n",
    "import csv\n",
    "from faker import Faker\n",
    "\n",
    "# Create a Faker instance\n",
    "fake = Faker()\n",
    "\n",
    "# Define possible education levels, genders, positions, and provinces\n",
    "education_levels = [\"Bachelor's Degree\", \"High School Diploma\", \"AL\"]\n",
    "genders = [\"Male\", \"Female\"]\n",
    "positions = [\"Principal\", \"Teacher\", \"Librarian\", \"Administrative Officer\", \"Development Officer\", \"Clerk\"]\n",
    "provinces = [\"Central\", \"Western\", \"North Western\", \"Uva\", \"Anuradhapura\"]\n",
    "\n",
    "# Generate dataset entries\n",
    "num_entries = 100  # Change this to the desired number of entries\n",
    "\n",
    "# Create and write header to the CSV file\n",
    "with open(\"generated_dataset.csv\", \"w\", newline='') as csvfile:\n",
    "    csvwriter = csv.writer(csvfile, delimiter='\\t', quotechar='\"', quoting=csv.QUOTE_MINIMAL)\n",
    "    header = [\"Full Name\", \"DOB\", \"Email\", \"Age\", \"Education Level\", \"Gender\", \"Current City\", \"Province\", \"District\", \"Polling Division\", \"Polling Station\", \"Current Position of the Job\", \"Name of the Institute\", \"Experience\", \"Current Salary\", \"Position Type\", \"FamName\", \"FamPollingStation\"]\n",
    "    csvwriter.writerow(header)\n",
    "\n",
    "    for _ in range(num_entries):\n",
    "        full_name = fake.name()\n",
    "        dob = fake.date_of_birth().strftime(\"%Y-%m-%d\")\n",
    "        email = fake.email()\n",
    "        age = random.randint(25, 65)\n",
    "        education_level = random.choice(education_levels)\n",
    "        gender = random.choice(genders)\n",
    "        current_city = fake.city()\n",
    "        province = random.choice(provinces)\n",
    "        district = fake.city()\n",
    "        polling_division = fake.random_int(min=1, max=10)\n",
    "        polling_station = fake.random_int(min=1, max=100)\n",
    "        current_position = random.choice(positions)\n",
    "        institute = fake.company()\n",
    "        experience = fake.random_int(min=1, max=20)\n",
    "        current_salary = fake.random_int(min=20000, max=100000)\n",
    "        position_type = \"Senior Polling Officer\" if current_position in [\"Principal\", \"Administrative Officer\"] else \"Junior Polling Officer\"\n",
    "        fam_name = fake.last_name()\n",
    "        fam_polling_station = random.choice([\"A - Colombo North\", \"Fds\"])\n",
    "\n",
    "        row = [full_name, dob, email, age, education_level, gender, current_city, province, district, polling_division, polling_station, current_position, institute, f\"{experience} years\", f\"Rs{current_salary:.2f}\", position_type, fam_name, fam_polling_station]\n",
    "        csvwriter.writerow(row)\n"
   ]
  },
  {
   "cell_type": "code",
   "execution_count": null,
   "id": "ddbb316d",
   "metadata": {},
   "outputs": [],
   "source": []
  }
 ],
 "metadata": {
  "kernelspec": {
   "display_name": "Python 3 (ipykernel)",
   "language": "python",
   "name": "python3"
  },
  "language_info": {
   "codemirror_mode": {
    "name": "ipython",
    "version": 3
   },
   "file_extension": ".py",
   "mimetype": "text/x-python",
   "name": "python",
   "nbconvert_exporter": "python",
   "pygments_lexer": "ipython3",
   "version": "3.9.13"
  }
 },
 "nbformat": 4,
 "nbformat_minor": 5
}
