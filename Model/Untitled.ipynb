{
 "cells": [
  {
   "cell_type": "code",
   "execution_count": 2,
   "id": "61bb16e3",
   "metadata": {},
   "outputs": [
    {
     "name": "stdout",
     "output_type": "stream",
     "text": [
      "User data exported to 'user_data.xlsx'\n"
     ]
    }
   ],
   "source": [
    "import random\n",
    "import pandas as pd\n",
    "\n",
    "def generate_random_date_of_birth():\n",
    "    year = random.randint(1950, 2003)\n",
    "    month = random.randint(1, 12)\n",
    "    day = random.randint(1, 28)  # Avoiding complexities with different month lengths\n",
    "    return f\"{year}-{month:02d}-{day:02d}\"\n",
    "\n",
    "def generate_random_email(first_name, last_name):\n",
    "    domain = random.choice([\"gmail.com\", \"yahoo.com\", \"outlook.com\", \"example.com\"])\n",
    "    return f\"{first_name.lower()}.{last_name.lower()}@{domain}\"\n",
    "\n",
    "def generate_random_education_level():\n",
    "    education_levels = [\"High School Diploma\", \"Bachelor's Degree\", \"Master's Degree\", \"Ph.D.\"]\n",
    "    return random.choice(education_levels)\n",
    "\n",
    "def generate_random_gender():\n",
    "    return random.choice([\"Male\", \"Female\", \"Other\"])\n",
    "\n",
    "def generate_random_salary():\n",
    "    return round(random.uniform(25000, 120000), 2)\n",
    "\n",
    "def generate_fake_user_data():\n",
    "    first_name = random.choice([\n",
    "        \"John\", \"Michael\", \"David\", \"Samantha\", \"Emma\", \"Sophia\", \"Liam\", \"Isabella\", \"Daniel\", \"Olivia\", \"Aiden\", \"Ava\",\n",
    "        \"Noah\", \"Ethan\", \"Emily\", \"Lucas\", \"Mia\", \"Alexander\", \"Ella\", \"Benjamin\", \"Charlotte\", \"James\", \"Amelia\",\n",
    "        \"Mason\", \"Harper\", \"Logan\", \"Abigail\", \"Henry\", \"Lily\", \"Leo\", \"Sofia\", \"Ryan\", \"Grace\", \"Nathan\", \"Chloe\",\n",
    "        \"William\", \"Zoe\", \"Jackson\", \"Victoria\", \"Oliver\", \"Aria\", \"Elijah\", \"Scarlett\", \"Carter\", \"Madison\"\n",
    "    ])\n",
    "    last_name = random.choice([\n",
    "        \"Smith\", \"Johnson\", \"Williams\", \"Brown\", \"Jones\", \"Miller\", \"Davis\", \"Garcia\", \"Rodriguez\", \"Martinez\", \"Hernandez\",\n",
    "        \"Lopez\", \"Gonzalez\", \"Wilson\", \"Anderson\", \"Thomas\", \"Taylor\", \"Moore\", \"Jackson\", \"Martin\", \"Lee\", \"Perez\", \"Thompson\",\n",
    "        \"White\", \"Harris\", \"Sanchez\", \"Clark\", \"Ramirez\", \"Lewis\", \"Robinson\", \"Walker\", \"Young\", \"Hall\", \"Allen\", \"King\",\n",
    "        \"Wright\", \"Scott\", \"Torres\", \"Nguyen\", \"Hill\", \"Flores\", \"Green\", \"Adams\", \"Nelson\", \"Baker\", \"Hall\", \"Rivera\", \"Bell\"\n",
    "    ])\n",
    "    dob = generate_random_date_of_birth()\n",
    "    email = generate_random_email(first_name, last_name)\n",
    "    age = random.randint(20, 65)\n",
    "    education_level = generate_random_education_level()\n",
    "    gender = generate_random_gender()\n",
    "    current_city = random.choice([\"Colombo\", \"Kandy\", \"Galle\", \"Jaffna\", \"Negombo\", \"Trincomalee\", \"Anuradhapura\"])\n",
    "    polling_station = random.randint(1, 50)\n",
    "    current_position = random.choice([\"Software Engineer\", \"Teacher\", \"Doctor\", \"Accountant\", \"Marketing Manager\"])\n",
    "    institute = random.choice([\"University of Colombo\", \"University of Peradeniya\", \"University of Moratuwa\", \"University of Jaffna\"])\n",
    "    experience = random.randint(0, 20)\n",
    "    salary = generate_random_salary()\n",
    "\n",
    "    user_data = {\n",
    "        \"Full Name\": f\"{first_name} {last_name}\",\n",
    "        \"DOB\": dob,\n",
    "        \"Email\": email,\n",
    "        \"Age\": age,\n",
    "        \"Education Level\": education_level,\n",
    "        \"Gender\": gender,\n",
    "        \"Current City\": current_city,\n",
    "        \"Polling Station\": f\"Station {polling_station}\",\n",
    "        \"Current Position of the Job\": current_position,\n",
    "        \"Name of the Institute\": institute,\n",
    "        \"Experience\": f\"{experience} years\",\n",
    "        \"Current Salary\": f\"${salary:,}\"\n",
    "    }\n",
    "\n",
    "    return user_data\n",
    "\n",
    "if __name__ == \"__main__\":\n",
    "    num_users = 500  # Change this to generate a different number of users\n",
    "\n",
    "    user_data_list = []\n",
    "    for _ in range(num_users):\n",
    "        user_data = generate_fake_user_data()\n",
    "        user_data_list.append(user_data)\n",
    "\n",
    "    df = pd.DataFrame(user_data_list)\n",
    "    df.to_excel(\"user_data.xlsx\", index=False)\n",
    "    print(\"User data exported to 'user_data.xlsx'\")\n"
   ]
  },
  {
   "cell_type": "code",
   "execution_count": null,
   "id": "f2226ee0",
   "metadata": {},
   "outputs": [],
   "source": []
  }
 ],
 "metadata": {
  "kernelspec": {
   "display_name": "Python 3 (ipykernel)",
   "language": "python",
   "name": "python3"
  },
  "language_info": {
   "codemirror_mode": {
    "name": "ipython",
    "version": 3
   },
   "file_extension": ".py",
   "mimetype": "text/x-python",
   "name": "python",
   "nbconvert_exporter": "python",
   "pygments_lexer": "ipython3",
   "version": "3.9.13"
  }
 },
 "nbformat": 4,
 "nbformat_minor": 5
}
