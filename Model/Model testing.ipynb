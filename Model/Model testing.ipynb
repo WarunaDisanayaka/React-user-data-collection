{
 "cells": [
  {
   "cell_type": "code",
   "execution_count": 59,
   "id": "ee25976e",
   "metadata": {},
   "outputs": [
    {
     "name": "stdout",
     "output_type": "stream",
     "text": [
      "Best Predicted Job Positions:\n",
      "Clerk: Amelia Smith, Michael Scott, Scarlett Scott, Chloe Lopez, Ava Adams, Leo Robinson, Elijah Jackson, Sophia Thompson, David Hernandez, Liam Jones, Victoria Davis, Charlotte Davis, Olivia Miller, David Scott, Sophia Gonzalez, Mason Allen, Lucas Thomas, Charlotte Sanchez, Henry Sanchez, Ella Thompson, Emily King, Leo Martinez, Sofia Gonzalez, Olivia Jackson, Ethan Anderson, Sofia Nguyen, Lucas Brown, Isabella Martin, Olivia Robinson, Ella Nelson, Sophia Jones, Carter Thompson, Emily Scott, Victoria Perez, Sofia Harris, Olivia Adams, Aiden Davis, Lucas Lewis, Alexander Torres, Ava Nguyen, Sophia Martinez, Samantha Sanchez, Aiden Green, Henry Torres, Sophia Sanchez, Sofia King, Leo Davis, Victoria Martinez, Emma Wright, Noah Moore, Noah Jackson, Emma Williams, Scarlett Walker, David Anderson, Samantha Johnson, Charlotte King, Scarlett Wilson, Benjamin Gonzalez, Ella Green, Harper Wright, Mia Hernandez, Ethan Hall, Amelia Taylor, Madison Gonzalez, Henry Johnson, Elijah Perez, Elijah Smith, Harper Clark, Lily Jackson, David Clark, Ava Wilson, Chloe Torres, Isabella Miller, Henry Allen, Henry Jones, Logan Martin, Ethan Wilson, Emily Wright, Daniel Rivera, Emily Jones, Amelia King, Ella Taylor, Ethan Wilson, Benjamin Hill, Aiden Ramirez, Harper Jackson, Sofia Hall, Abigail Robinson, Emma Jackson, Noah Allen, Samantha Wright, Abigail Lewis, Henry Flores, John Nguyen, John Wright, John Lewis, Mason Wilson, Isabella Thompson, Liam Jackson, Sophia Anderson, Aiden Jones, Chloe Hall, William Torres, Scarlett Anderson, Michael Brown, Zoe Green, Chloe Adams, Zoe Brown, Emma Moore, Logan Nguyen, Aria Perez, Jackson Johnson, Mia Adams, Harper Flores, John White, John Jackson, Charlotte Thomas, Jackson Johnson, Harper Hernandez, Sofia Flores, Benjamin Ramirez, Sofia Thompson, Isabella Lewis, Ryan Taylor, Victoria Martinez, John Sanchez, Ava Anderson, Ethan Lopez, Emma Martin, Nathan Flores, Abigail Walker, Madison Davis, Chloe Wright, Isabella King, Harper Green, Alexander Ramirez, Olivia Lewis, John Garcia, Amelia Hall, William Gonzalez, Jackson Jackson, Grace Hall, Scarlett Flores, Chloe Rodriguez, Liam Johnson, Lucas King, Abigail Lewis, Mason Sanchez, Isabella Walker, Samantha Clark, Oliver Garcia, Liam Williams, Alexander Harris, Henry Wilson, Mia Jones, Sofia Bell, Abigail Gonzalez, Ryan Wilson, Samantha Davis, Isabella Hernandez, Chloe Clark, William White, Ryan Baker, Olivia Lewis, Jackson Miller, Zoe Ramirez, Mason Young, Henry Green, Ella Taylor, Grace Williams, Elijah Flores, Zoe Martin, Sofia Nguyen, Mia Jackson, Emily Nelson, Grace Jackson, Alexander Williams, Aria Smith, Ella Walker, Samantha King, Jackson Garcia, Aria Hall, Carter Young, Michael Hill, Lily Perez, James Hall, Ethan Green, Liam Baker, Aria Brown, Aria Walker, James King, Alexander Anderson, Nathan Perez, Harper Robinson, Leo Smith\n",
      "Junior Polling Officer: Lucas King\n",
      "Senior Polling Officer: Ethan Smith\n"
     ]
    }
   ],
   "source": [
    "import pandas as pd\n",
    "from sklearn.preprocessing import LabelEncoder, StandardScaler\n",
    "import joblib\n",
    "\n",
    "# Load the trained model\n",
    "model_filename = 'trained_model.joblib'\n",
    "model = joblib.load(model_filename)\n",
    "\n",
    "# Load and preprocess new data\n",
    "new_data = pd.read_csv('user_data.csv')  # Replace with the path to your new data CSV file\n",
    "names = new_data['Full Name']  # Store the names for printing later\n",
    "new_data = new_data.drop([\"Full Name\", \"Email\", \"DOB\", \"Position Type\"], axis=1)  # Remove 'Position Type'\n",
    "new_data['Experience'] = new_data['Experience'].str.replace(' years', '').astype(int)\n",
    "new_data['Current Salary'] = new_data['Current Salary'].str.replace('[$,]', '', regex=True).astype(float)\n",
    "\n",
    "label_encoder = LabelEncoder()\n",
    "categorical_columns = [\"Education Level\", \"Gender\", \"Current City\", \"Province\", \"District\", \"Polling Division\", \"Polling Station\", \"Current Position of the Job\", \"Name of the Institute\"]\n",
    "\n",
    "for column in categorical_columns:\n",
    "    new_data[column] = label_encoder.fit_transform(new_data[column])\n",
    "\n",
    "# Load the trained scaler\n",
    "scaler = joblib.load('scaler.joblib')\n",
    "\n",
    "# Scale new data\n",
    "new_data_scaled = scaler.transform(new_data)\n",
    "\n",
    "# Make predictions\n",
    "new_predictions = model.predict(new_data_scaled)\n",
    "\n",
    "# Define a dictionary to map position codes to position names\n",
    "position_names = {\n",
    "    0: 'Clerk',\n",
    "    1: 'Junior Polling Officer',\n",
    "    2: 'Senior Polling Officer'\n",
    "}\n",
    "\n",
    "# Keep track of the best predictions\n",
    "best_predictions = {position: [] for position in position_names.values()}\n",
    "\n",
    "# Determine the best predictions for each position\n",
    "for name, prediction in zip(names, new_predictions):\n",
    "    position_name = position_names[prediction]\n",
    "    if position_name == 'Clerk':\n",
    "        best_predictions[position_name].append(name)\n",
    "    elif not best_predictions[position_name]:\n",
    "        best_predictions[position_name].append(name)\n",
    "\n",
    "# Print the best predicted job positions\n",
    "print(\"Best Predicted Job Positions:\")\n",
    "for position_name, name_list in best_predictions.items():\n",
    "    if name_list:\n",
    "        print(f\"{position_name}: {', '.join(name_list)}\")\n"
   ]
  }
 ],
 "metadata": {
  "kernelspec": {
   "display_name": "Python 3 (ipykernel)",
   "language": "python",
   "name": "python3"
  },
  "language_info": {
   "codemirror_mode": {
    "name": "ipython",
    "version": 3
   },
   "file_extension": ".py",
   "mimetype": "text/x-python",
   "name": "python",
   "nbconvert_exporter": "python",
   "pygments_lexer": "ipython3",
   "version": "3.9.13"
  }
 },
 "nbformat": 4,
 "nbformat_minor": 5
}
